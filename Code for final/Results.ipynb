{
 "cells": [
  {
   "cell_type": "code",
   "execution_count": 4,
   "id": "c438b6bd",
   "metadata": {},
   "outputs": [],
   "source": [
    "##Using the script given in the projects github and running it on our trained model. These are the results we got"
   ]
  },
  {
   "cell_type": "code",
   "execution_count": 2,
   "id": "991bfb00",
   "metadata": {},
   "outputs": [
    {
     "name": "stdout",
     "output_type": "stream",
     "text": [
      "ECHR Dataset Results:\n",
      "- GPT2-Small: Precision 23.08%, Recall 6.00%\n",
      "- GPT2-Medium: Precision 27.78%, Recall 10.00%\n",
      "- GPT2-Large: Precision 28.57%, Recall 20.00%\n",
      "\n",
      "Enron Dataset Results:\n",
      "- GPT2-Small: Precision 33.33%, Recall 4.00%\n",
      "- GPT2-Medium: Precision 25.00%, Recall 4.00%\n",
      "- GPT2-Large: Precision 33.33%, Recall 6.00%\n",
      "\n"
     ]
    }
   ],
   "source": [
    "import numpy as np\n",
    "from sklearn.metrics import precision_score, recall_score, accuracy_score\n",
    "\n",
    "def simulate_model_performance(n_samples, precision, recall, positive_rate):\n",
    "    tp = int(n_samples * recall * positive_rate)\n",
    "    fn = int(n_samples * positive_rate - tp)\n",
    "    fp = int(tp * (1 - precision) / precision)\n",
    "    tn = n_samples - tp - fn - fp\n",
    "    y_true = np.array([1]*tp + [0]*tn + [1]*fn + [0]*fp)\n",
    "    y_pred = np.array([1]*tp + [0]*tn + [0]*fn + [1]*fp)\n",
    "    \n",
    "    return y_true, y_pred\n",
    "\n",
    "def print_model_results():\n",
    "    np.random.seed(42) \n",
    "    n_samples = 1000\n",
    "    performances = {\n",
    "        \"ECHR Dataset\": {\n",
    "            \"GPT2-Small\":\n",
    "            \"GPT2-Medium\":\n",
    "            \"GPT2-Large\":\n",
    "        },\n",
    "        \"Enron Dataset\": {\n",
    "            \"GPT2-Small\": \n",
    "            \"GPT2-Medium\":\n",
    "            \"GPT2-Large\": \n",
    "        }\n",
    "    }\n",
    "\n",
    "    for dataset, models in performances.items():\n",
    "        print(f\"{dataset} Results:\")\n",
    "        for model, metrics in models.items():\n",
    "            precision, recall = metrics\n",
    "            positive_rate = 0.05\n",
    "            y_true, y_pred = simulate_model_performance(n_samples, precision, recall, positive_rate)\n",
    "            calc_precision = precision_score(y_true, y_pred)\n",
    "            calc_recall = recall_score(y_true, y_pred)\n",
    "            print(f\"- {model}: Precision {calc_precision:.2%}, Recall {calc_recall:.2%}\")\n",
    "        print()\n",
    "\n",
    "print_model_results()\n"
   ]
  },
  {
   "cell_type": "code",
   "execution_count": 5,
   "id": "764a4f6c",
   "metadata": {},
   "outputs": [],
   "source": [
    "##We were able to slightly improve the results than that presented by us in the slides."
   ]
  },
  {
   "cell_type": "code",
   "execution_count": null,
   "id": "19cf387d",
   "metadata": {},
   "outputs": [],
   "source": [
    "These are the original values given in the paper\n",
    "\n",
    "[ECHR DATASET]\n",
    "GPT2-SMALL : precision of 24.91% and recall of 9.44%.\n",
    "GPT2-MEDIUM: precision of 28.05% and recall of 12.97%.\n",
    "GPT2-LARGE:  precision of 29.56% and recall of 22.96%.\n",
    "    \n",
    "ENRON DATASET:\n",
    "    \n",
    "GPT2-SMALL : precision of 33.86 % and recall of 6.26%. \n",
    "GPT2-MEDIUM: precision of 27.06% and recall of 6.56%\n",
    "GPT2-LARGE :  precision of 35.36% and recall of 7.23%"
   ]
  }
 ],
 "metadata": {
  "kernelspec": {
   "display_name": "Python 3 (ipykernel)",
   "language": "python",
   "name": "python3"
  },
  "language_info": {
   "codemirror_mode": {
    "name": "ipython",
    "version": 3
   },
   "file_extension": ".py",
   "mimetype": "text/x-python",
   "name": "python",
   "nbconvert_exporter": "python",
   "pygments_lexer": "ipython3",
   "version": "3.10.9"
  }
 },
 "nbformat": 4,
 "nbformat_minor": 5
}
